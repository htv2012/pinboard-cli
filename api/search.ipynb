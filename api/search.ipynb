{
 "cells": [
  {
   "cell_type": "markdown",
   "id": "3a6fb79f-c75a-4a9d-9a71-83c4baf3be00",
   "metadata": {},
   "source": [
    "# Search Using Pipeline"
   ]
  },
  {
   "cell_type": "code",
   "execution_count": 1,
   "id": "c0545a71-8650-41b2-9525-00f7fe2ee374",
   "metadata": {},
   "outputs": [
    {
     "data": {
      "text/plain": [
       "'/Users/haivu/Projects/pinboard-cli/api'"
      ]
     },
     "execution_count": 1,
     "metadata": {},
     "output_type": "execute_result"
    }
   ],
   "source": [
    "import os\n",
    "os.getcwd()"
   ]
  },
  {
   "cell_type": "code",
   "execution_count": 11,
   "id": "9c0e6b48-8677-4d4d-8a60-0dab3c2874e4",
   "metadata": {},
   "outputs": [
    {
     "name": "stdout",
     "output_type": "stream",
     "text": [
      "86 records\n"
     ]
    }
   ],
   "source": [
    "import json\n",
    "\n",
    "with open(\"v1/artifacts/posts-all.json\") as stream:\n",
    "    data = json.load(stream)\n",
    "\n",
    "print(f\"{len(data)} records\")"
   ]
  },
  {
   "cell_type": "code",
   "execution_count": 24,
   "id": "fa893ecb-bd42-4b8f-9611-42ddf79178f3",
   "metadata": {},
   "outputs": [
    {
     "data": {
      "text/plain": [
       "{'href': 'https://notes.pinboard.in/u:htv2017/0697e00bba01cf5145c6',\n",
       " 'description': 'Markdown Test',\n",
       " 'extended': '',\n",
       " 'meta': '1c8e4a302853edc773f2a5a8ac1e8fc2',\n",
       " 'hash': 'c98fc6af38c798c40220420f0b968e30',\n",
       " 'time': '2025-01-31T20:27:48Z',\n",
       " 'shared': 'no',\n",
       " 'toread': 'no',\n",
       " 'tags': 'markdown test'}"
      ]
     },
     "execution_count": 24,
     "metadata": {},
     "output_type": "execute_result"
    }
   ],
   "source": [
    "data[0]"
   ]
  },
  {
   "cell_type": "code",
   "execution_count": 12,
   "id": "0c98a3c7-07f7-4398-81d6-20659305a4eb",
   "metadata": {},
   "outputs": [],
   "source": [
    "from typing import Optional\n",
    "import functools\n",
    "\n",
    "\n",
    "TITLE = 'description'\n",
    "DESCRIPTION = 'extended'\n",
    "TAGS = 'tags'\n",
    "\n",
    "def display_bookmark(bookmark):\n",
    "    print(f\"Title: {bookmark[TITLE]}\")\n",
    "    print(f\"Description: {bookmark[DESCRIPTION]}\")\n",
    "    print(f\"Tags: {bookmark[TAGS]}\")\n",
    "    print()\n",
    "\n",
    "def by_key(key: str, value: Optional[str] = None):\n",
    "    def match(bookmark) -> bool:\n",
    "        return value is None or value.casefold() in bookmark[key].casefold()\n",
    "    return match\n",
    "\n",
    "by_title = functools.partial(by_key, TITLE)\n",
    "by_description = functools.partial(by_key, DESCRIPTION)\n",
    "\n",
    "def by_tag(tag: Optional[str] = None):\n",
    "    def match(bookmark):\n",
    "        if tag is None:\n",
    "            return True\n",
    "        return any(tag == bm_tag for bm_tag in bookmark[TAGS].split())\n",
    "    return match"
   ]
  },
  {
   "cell_type": "code",
   "execution_count": 13,
   "id": "3bb7a27a-d877-4f9a-be15-5a086681bc85",
   "metadata": {},
   "outputs": [
    {
     "name": "stdout",
     "output_type": "stream",
     "text": [
      "Title: StackOverflow - pytest\n",
      "Description: \n",
      "Tags: stackoverflow\n",
      "\n",
      "Title: Full pytest documentation — pytest documentation\n",
      "Description: \n",
      "Tags: python documentation\n",
      "\n"
     ]
    }
   ],
   "source": [
    "f = filter(by_title('pytest'), data)\n",
    "for bm in f:\n",
    "    display_bookmark(bm)"
   ]
  },
  {
   "cell_type": "code",
   "execution_count": 14,
   "id": "5779e6e1-441b-4a99-884d-b9c8748de375",
   "metadata": {},
   "outputs": [
    {
     "name": "stdout",
     "output_type": "stream",
     "text": [
      "Title: Pinboard API (v2) Documentation\n",
      "Description: New API. However, I don't see much movement in the development so let's hold off on converting my code to V2.\n",
      "Tags: api pinboard documentation\n",
      "\n",
      "Title: Mill Creek Home Price\n",
      "Description: For my home\n",
      "\n",
      "Tags: \n",
      "\n",
      "Title: 15110 45th Pl W, Lynnwood, WA 98087 | Zillow\n",
      "Description: Property value for my Lynnwood rental house. The information here includes rent value\n",
      "Tags: \n",
      "\n",
      "Title: Amazon.com: Manage Your Content and Devices\n",
      "Description: myk\n",
      "Tags: amazon\n",
      "\n"
     ]
    }
   ],
   "source": [
    "f = filter(by_description('my'), data)\n",
    "for bm in f:\n",
    "    display_bookmark(bm)"
   ]
  },
  {
   "cell_type": "code",
   "execution_count": 15,
   "id": "a0e1e074-3e3d-4d46-a334-8b7cd6ea670f",
   "metadata": {},
   "outputs": [
    {
     "name": "stdout",
     "output_type": "stream",
     "text": [
      "Title: Markdown Tables generator - TablesGenerator.com\n",
      "Description: \n",
      "Tags: markdown generator\n",
      "\n",
      "Title: gitignore.io - Create Useful .gitignore Files For Your Project\n",
      "Description: \n",
      "Tags: devtools generator\n",
      "\n",
      "Title: Bash $PS1 Generator 2.0\n",
      "Description: \n",
      "Tags: devtools generator\n",
      "\n"
     ]
    }
   ],
   "source": [
    "f = filter(by_tag('generator'), data)\n",
    "for b in f:\n",
    "    display_bookmark(b)"
   ]
  },
  {
   "cell_type": "code",
   "execution_count": 16,
   "id": "887bd781-34fa-435d-98ec-5ef702c73876",
   "metadata": {},
   "outputs": [
    {
     "name": "stdout",
     "output_type": "stream",
     "text": [
      "Title: gitignore.io - Create Useful .gitignore Files For Your Project\n",
      "Description: \n",
      "Tags: devtools generator\n",
      "\n",
      "Title: Bash $PS1 Generator 2.0\n",
      "Description: \n",
      "Tags: devtools generator\n",
      "\n"
     ]
    }
   ],
   "source": [
    "f = filter(by_tag('devtools'), data)\n",
    "f = filter(by_tag('generator'), f)\n",
    "for b in f:\n",
    "    display_bookmark(b)"
   ]
  },
  {
   "cell_type": "code",
   "execution_count": 17,
   "id": "3934bdb6-de49-426f-bb9a-16f459d7dc1e",
   "metadata": {},
   "outputs": [
    {
     "name": "stdout",
     "output_type": "stream",
     "text": [
      "Title: Bash $PS1 Generator 2.0\n",
      "Description: \n",
      "Tags: devtools generator\n",
      "\n"
     ]
    }
   ],
   "source": [
    "f = filter(by_tag('devtools'), data)\n",
    "f = filter(by_tag('generator'), f)\n",
    "f = filter(by_title('bash'), f)\n",
    "for b in f:\n",
    "    display_bookmark(b)"
   ]
  },
  {
   "cell_type": "code",
   "execution_count": 18,
   "id": "3397bada-9311-463b-84d1-778e8cf0228e",
   "metadata": {},
   "outputs": [
    {
     "name": "stdout",
     "output_type": "stream",
     "text": [
      "Title: StackOverflow - pytest\n",
      "Description: \n",
      "Tags: stackoverflow\n",
      "\n"
     ]
    }
   ],
   "source": [
    "f = filter(by_tag('stackoverflow'), data)\n",
    "f = filter(by_title('pytest'), f)\n",
    "for b in f:\n",
    "    display_bookmark(b)"
   ]
  },
  {
   "cell_type": "code",
   "execution_count": 23,
   "id": "13077ce6-fe83-4eef-b488-4a453fbdc808",
   "metadata": {},
   "outputs": [
    {
     "name": "stdout",
     "output_type": "stream",
     "text": [
      "Title: hatch · PyPI\n",
      "Description: \n",
      "Tags: devtools\n",
      "\n",
      "Title: check-manifest · PyPI\n",
      "Description: \n",
      "Tags: devtools python\n",
      "\n"
     ]
    }
   ],
   "source": [
    "f = filter(by_tag('devtools'), data)\n",
    "f = filter(by_title('pypi'), f)\n",
    "for b in f:\n",
    "    display_bookmark(b)"
   ]
  },
  {
   "cell_type": "markdown",
   "id": "4fe197a0-70be-4950-bc53-3cfa8c9f706c",
   "metadata": {},
   "source": [
    "# Sandbox: Set"
   ]
  },
  {
   "cell_type": "code",
   "execution_count": 25,
   "id": "58ea662c-ac68-4378-a9f1-a879f66c63cc",
   "metadata": {},
   "outputs": [],
   "source": [
    "tags = set(\"abcdef\")\n",
    "s = set(\"abc\")"
   ]
  },
  {
   "cell_type": "code",
   "execution_count": 26,
   "id": "e5e22f1f-dfba-4b14-bea1-47f912cdb18f",
   "metadata": {},
   "outputs": [
    {
     "data": {
      "text/plain": [
       "True"
      ]
     },
     "execution_count": 26,
     "metadata": {},
     "output_type": "execute_result"
    }
   ],
   "source": [
    "tags.issuperset(s)"
   ]
  },
  {
   "cell_type": "code",
   "execution_count": 27,
   "id": "f26599af-a747-4861-a4bc-87e4788fdc1f",
   "metadata": {},
   "outputs": [
    {
     "data": {
      "text/plain": [
       "True"
      ]
     },
     "execution_count": 27,
     "metadata": {},
     "output_type": "execute_result"
    }
   ],
   "source": [
    "tags.issuperset(\"de\")"
   ]
  },
  {
   "cell_type": "code",
   "execution_count": 28,
   "id": "12a711a8-8148-4e58-94a5-2dfc4cdcf90f",
   "metadata": {},
   "outputs": [
    {
     "data": {
      "text/plain": [
       "True"
      ]
     },
     "execution_count": 28,
     "metadata": {},
     "output_type": "execute_result"
    }
   ],
   "source": [
    "tags.issuperset((\"f\", \"a\"))"
   ]
  },
  {
   "cell_type": "code",
   "execution_count": 29,
   "id": "b8421e26-a819-4004-a9e6-4f6f8978404e",
   "metadata": {},
   "outputs": [
    {
     "data": {
      "text/plain": [
       "False"
      ]
     },
     "execution_count": 29,
     "metadata": {},
     "output_type": "execute_result"
    }
   ],
   "source": [
    "tags.issuperset((\"f\", \"a\", \"z\"))"
   ]
  },
  {
   "cell_type": "code",
   "execution_count": null,
   "id": "246518df-2ac9-44af-aad4-a44bbfe9cf0f",
   "metadata": {},
   "outputs": [],
   "source": []
  }
 ],
 "metadata": {
  "kernelspec": {
   "display_name": "Python 3 (ipykernel)",
   "language": "python",
   "name": "python3"
  },
  "language_info": {
   "codemirror_mode": {
    "name": "ipython",
    "version": 3
   },
   "file_extension": ".py",
   "mimetype": "text/x-python",
   "name": "python",
   "nbconvert_exporter": "python",
   "pygments_lexer": "ipython3",
   "version": "3.12.5"
  }
 },
 "nbformat": 4,
 "nbformat_minor": 5
}
